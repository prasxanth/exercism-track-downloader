{
 "cells": [
  {
   "cell_type": "markdown",
   "id": "b4a27962",
   "metadata": {},
   "source": [
    "# exercism-track-downloader"
   ]
  },
  {
   "cell_type": "markdown",
   "id": "08da1165",
   "metadata": {},
   "source": [
    "`exercism-track-downloader` is a small Clojure (Java) CLI application to download all exercises for track(s) from [exercism.org](https://exercism.org/).\n",
    "\n",
    "```sh\n",
    "exercism-track-downloader.jar [args]\n",
    "```\n",
    "\n",
    "Examples are provided in the [usage](#usage) section.\n",
    "\n",
    "## Pre-requisities\n",
    "\n",
    "+ [Exercim's CLI](https://exercism.org/docs/using/solving-exercises/working-locally) application must be installed as it used to retrieve the exercises.\n",
    "\n",
    "+ Exercises must be *unlocked* to be *downloaded*. Locked exercises cannot be downloaded.\n",
    "\n",
    "## Installation\n",
    "\n",
    "Copy the `target/default+uberjar/exercism-track-downloader-<version>-standalone.jar` file to somewhere in your `PATH` and give it executable permissions.\n",
    "\n",
    "Alternatively, Clojure developers can use the code or library  (`target/default+uberjar/exercism-track-downloader-<version>.jar`) directly.\n"
   ]
  },
  {
   "cell_type": "markdown",
   "id": "e373169d",
   "metadata": {},
   "source": [
    "## Usage\n",
    "\n",
    "Execute commands below from within the root directory. Copy-paste them to your terminal and remove the leading `!` character. Note that `exercism-track-downloader.jar` is symlinked to `target/default+uberjar/exercism-track-downloader-1.0-standalone.jar`.\n",
    "\n",
    "> _Note_: All data is retrieved directly from [exercism.org](https://exercism.org/) on each run"
   ]
  },
  {
   "cell_type": "markdown",
   "id": "50b42281",
   "metadata": {},
   "source": [
    "### Help"
   ]
  },
  {
   "cell_type": "code",
   "execution_count": 1,
   "id": "93b9de94",
   "metadata": {},
   "outputs": [
    {
     "name": "stdout",
     "output_type": "stream",
     "text": [
      "NAME:\r\n",
      " exercism-track-downloader - Application to download all exercises from Exercism for any track(s).\r\n",
      "\r\n",
      "USAGE:\r\n",
      " exercism-track-downloader [global-options] command [command options] [arguments...]\r\n",
      "\r\n",
      "VERSION:\r\n",
      " 1.0\r\n",
      "\r\n",
      "COMMANDS:\r\n",
      "   tracks               List available tracks on Exercism\r\n",
      "   exercises            List and download exercises for each track\r\n",
      "\r\n",
      "GLOBAL OPTIONS:\r\n",
      "   -?, --help\r\n",
      "\r\n"
     ]
    }
   ],
   "source": [
    "!java -jar exercism-track-downloader.jar --help"
   ]
  },
  {
   "cell_type": "markdown",
   "id": "7273913c",
   "metadata": {},
   "source": [
    "### Tracks"
   ]
  },
  {
   "cell_type": "markdown",
   "id": "9758e0ce",
   "metadata": {},
   "source": [
    "#### Help"
   ]
  },
  {
   "cell_type": "code",
   "execution_count": 2,
   "id": "9c79a749",
   "metadata": {},
   "outputs": [
    {
     "name": "stdout",
     "output_type": "stream",
     "text": [
      "NAME:\r\n",
      " exercism-track-downloader tracks - List available tracks on Exercism\r\n",
      "\r\n",
      "USAGE:\r\n",
      " exercism-track-downloader tracks [command options] [arguments...]\r\n",
      "\r\n",
      "EXAMPLES:\r\n",
      " exercism-track-downloader tracks --list\r\n",
      " exercism-track-downloader tracks --slugs\r\n",
      " exercism-track-downloader tracks --langs\r\n",
      " exercism-track-downloader tracks --search \".*L$\"\r\n",
      "\r\n",
      "OPTIONS:\r\n",
      "   -l, --[no-]list   List both track slugs and language mappings\r\n",
      "   -s, --[no-]slugs  List track slugs only\r\n",
      "   -g, --[no-]langs  List track languages only\r\n",
      "   -r, --search S    Search available track listings using regex\r\n",
      "   -?, --help\r\n",
      "\r\n"
     ]
    }
   ],
   "source": [
    "!java -jar exercism-track-downloader.jar tracks --help"
   ]
  },
  {
   "cell_type": "markdown",
   "id": "a4867dc8",
   "metadata": {},
   "source": [
    "#### Listings"
   ]
  },
  {
   "cell_type": "code",
   "execution_count": 3,
   "id": "28a9f83f",
   "metadata": {},
   "outputs": [
    {
     "name": "stdout",
     "output_type": "stream",
     "text": [
      "\n",
      "Retrieving tracks from https://exercism.io/tracks\n",
      "\n",
      "\n",
      "|           :slug |           :lang |\n",
      "|-----------------+-----------------|\n",
      "|            abap |            ABAP |\n",
      "|             awk |             AWK |\n",
      "|            bash |            Bash |\n",
      "|               c |               C |\n",
      "|            cfml |            CFML |\n",
      "|         clojure |         Clojure |\n",
      "|   clojurescript |   ClojureScript |\n",
      "|           cobol |           COBOL |\n",
      "|    coffeescript |    CoffeeScript |\n",
      "|     common-lisp |     Common Lisp |\n",
      "|             cpp |             C++ |\n",
      "|         crystal |         Crystal |\n",
      "|          csharp |              C# |\n",
      "|               d |               D |\n",
      "|            dart |            Dart |\n",
      "|          delphi |   Delphi Pascal |\n",
      "|          elixir |          Elixir |\n",
      "|             elm |             Elm |\n",
      "|      emacs-lisp |      Emacs Lisp |\n",
      "|          erlang |          Erlang |\n",
      "|         fortran |         Fortran |\n",
      "|          fsharp |              F# |\n",
      "|              go |              Go |\n",
      "|          groovy |          Groovy |\n",
      "|         haskell |         Haskell |\n",
      "|            java |            Java |\n",
      "|      javascript |      JavaScript |\n",
      "|           julia |           Julia |\n",
      "|          kotlin |          Kotlin |\n",
      "|             lfe |             LFE |\n",
      "|             lua |             Lua |\n",
      "|            mips |   MIPS Assembly |\n",
      "|             nim |             Nim |\n",
      "|     objective-c |     Objective-C |\n",
      "|           ocaml |           OCaml |\n",
      "|           perl5 |          Perl 5 |\n",
      "| pharo-smalltalk |           Pharo |\n",
      "|             php |             PHP |\n",
      "|           plsql |          PL/SQL |\n",
      "|          prolog |          Prolog |\n",
      "|      purescript |      PureScript |\n",
      "|          python |          Python |\n",
      "|               r |               R |\n",
      "|          racket |          Racket |\n",
      "|            raku |            Raku |\n",
      "|        reasonml |        ReasonML |\n",
      "|             red |             Red |\n",
      "|            ruby |            Ruby |\n",
      "|            rust |            Rust |\n",
      "|           scala |           Scala |\n",
      "|          scheme |          Scheme |\n",
      "|             sml |     Standard ML |\n",
      "|           swift |           Swift |\n",
      "|             tcl |             Tcl |\n",
      "|      typescript |      TypeScript |\n",
      "|          unison |          Unison |\n",
      "|           vbnet |          VB.NET |\n",
      "|       vimscript |      Vim script |\n",
      "|            wasm |     WebAssembly |\n",
      "|            wren |            Wren |\n",
      "| x86-64-assembly | x86-64 Assembly |\n",
      "\n"
     ]
    }
   ],
   "source": [
    "!java -jar exercism-track-downloader.jar tracks --list"
   ]
  },
  {
   "cell_type": "markdown",
   "id": "6e66ca56",
   "metadata": {},
   "source": [
    "#### Slugs (URL abbreviations) Only"
   ]
  },
  {
   "cell_type": "code",
   "execution_count": 4,
   "id": "f37daead",
   "metadata": {},
   "outputs": [
    {
     "name": "stdout",
     "output_type": "stream",
     "text": [
      "c\r\n",
      "cfml\r\n",
      "clojure\r\n",
      "clojurescript\r\n",
      "cobol\r\n",
      "coffeescript\r\n",
      "common-lisp\r\n",
      "cpp\r\n",
      "crystal\r\n",
      "csharp\r\n"
     ]
    }
   ],
   "source": [
    "!java -jar exercism-track-downloader.jar tracks --slugs | grep \"^c.*\""
   ]
  },
  {
   "cell_type": "markdown",
   "id": "341ee193",
   "metadata": {},
   "source": [
    "#### Languages Only"
   ]
  },
  {
   "cell_type": "code",
   "execution_count": 5,
   "id": "e45c0686",
   "metadata": {},
   "outputs": [
    {
     "name": "stdout",
     "output_type": "stream",
     "text": [
      "CFML\r\n",
      "ReasonML\r\n",
      "Standard ML\r\n"
     ]
    }
   ],
   "source": [
    "!java -jar exercism-track-downloader.jar tracks --langs | grep \".*ML.*\""
   ]
  },
  {
   "cell_type": "markdown",
   "id": "3fb0d9ec",
   "metadata": {},
   "source": [
    "#### Search Track Listings"
   ]
  },
  {
   "cell_type": "code",
   "execution_count": 6,
   "id": "bea308d8",
   "metadata": {},
   "outputs": [
    {
     "name": "stdout",
     "output_type": "stream",
     "text": [
      "\r\n",
      "Retrieving tracks from https://exercism.io/tracks\r\n",
      "\r\n",
      "\r\n",
      "|    :slug |       :lang |\r\n",
      "|----------+-------------|\r\n",
      "|     cfml |        CFML |\r\n",
      "|    cobol |       COBOL |\r\n",
      "|    plsql |      PL/SQL |\r\n",
      "| reasonml |    ReasonML |\r\n",
      "|      sml | Standard ML |\r\n",
      "\r\n"
     ]
    }
   ],
   "source": [
    "!java -jar exercism-track-downloader.jar tracks --search \".*L$\""
   ]
  },
  {
   "cell_type": "markdown",
   "id": "a9b757ee",
   "metadata": {},
   "source": [
    "### Exercises"
   ]
  },
  {
   "cell_type": "markdown",
   "id": "ae154894",
   "metadata": {},
   "source": [
    "#### Help"
   ]
  },
  {
   "cell_type": "code",
   "execution_count": 7,
   "id": "76c421b0",
   "metadata": {},
   "outputs": [
    {
     "name": "stdout",
     "output_type": "stream",
     "text": [
      "NAME:\r\n",
      " exercism-track-downloader exercises - List and download exercises for each track\r\n",
      "\r\n",
      "USAGE:\r\n",
      " exercism-track-downloader exercises [command options] [arguments...]\r\n",
      "\r\n",
      "EXAMPLES:\r\n",
      " exercism-track-downloader exercises --list plsql -l clojure\r\n",
      " exercism-track-downloader exercises --download wasm -d awk\r\n",
      "\r\n",
      "OPTIONS:\r\n",
      "   -l, --list S      List exercises for target tracks\r\n",
      "   -d, --download S  Download exercises for target tracks\r\n",
      "   -?, --help\r\n",
      "\r\n"
     ]
    }
   ],
   "source": [
    "!java -jar exercism-track-downloader.jar exercises --help"
   ]
  },
  {
   "cell_type": "markdown",
   "id": "b2e9d0ba",
   "metadata": {},
   "source": [
    "#### Listings"
   ]
  },
  {
   "cell_type": "code",
   "execution_count": 8,
   "id": "ce11dc5e",
   "metadata": {},
   "outputs": [
    {
     "name": "stdout",
     "output_type": "stream",
     "text": [
      "========= plsql =========\r\n",
      "\r\n",
      "|                :title | :difficulty |    :type |\r\n",
      "|-----------------------+-------------+----------|\r\n",
      "|           Hello World |        easy | tutorial |\r\n",
      "|                Binary |        easy | practice |\r\n",
      "| Difference Of Squares |        easy | practice |\r\n",
      "|            Gigasecond |        easy | practice |\r\n",
      "|                Grains |        easy | practice |\r\n",
      "|               Hamming |        easy | practice |\r\n",
      "|                  Leap |        easy | practice |\r\n",
      "|             Nth Prime |        easy | practice |\r\n",
      "|             Raindrops |        easy | practice |\r\n",
      "|     Rna Transcription |        easy | practice |\r\n",
      "|        Roman Numerals |        easy | practice |\r\n",
      "\r\n",
      "========= wasm =========\r\n",
      "\r\n",
      "|                :title | :difficulty |    :type |\r\n",
      "|-----------------------+-------------+----------|\r\n",
      "|           Hello World |        easy | tutorial |\r\n",
      "|                 Darts |        easy | practice |\r\n",
      "|    Collatz Conjecture |        easy | practice |\r\n",
      "|                Grains |      medium | practice |\r\n",
      "| Difference of Squares |        easy | practice |\r\n",
      "|                  Leap |        easy | practice |\r\n",
      "|        Resistor Color |      medium | practice |\r\n",
      "|        Reverse String |        easy | practice |\r\n",
      "|               Two Fer |        easy | practice |\r\n",
      "|          Bank Account |        easy | practice |\r\n",
      "|       Circular Buffer |        hard | practice |\r\n",
      "|               Acronym |        easy | practice |\r\n",
      "|         All Your Base |      medium | practice |\r\n",
      "|         Binary Search |      medium | practice |\r\n",
      "|              Triangle |        easy | practice |\r\n",
      "|      Nucleotide Count |        easy | practice |\r\n",
      "|     Armstrong Numbers |        easy | practice |\r\n",
      "|     Rna Transcription |        easy | practice |\r\n",
      "|             Raindrops |        easy | practice |\r\n",
      "|               Hamming |        easy | practice |\r\n",
      "|               Pangram |        easy | practice |\r\n",
      "\r\n"
     ]
    }
   ],
   "source": [
    "!java -jar exercism-track-downloader.jar exercises --list plsql -l WebAssembly"
   ]
  },
  {
   "cell_type": "markdown",
   "id": "3c0ae9b6",
   "metadata": {},
   "source": [
    "If one ore more tracks are not found it is skipped and a message is displayed"
   ]
  },
  {
   "cell_type": "code",
   "execution_count": 9,
   "id": "38ed9909",
   "metadata": {},
   "outputs": [
    {
     "name": "stdout",
     "output_type": "stream",
     "text": [
      "\r\n",
      "[\u001b[31;1mWeb Assembly\u001b[m] not found. See tracks for available options.\r\n",
      "\r\n",
      "========= plsql =========\r\n",
      "\r\n",
      "|                :title | :difficulty |    :type |\r\n",
      "|-----------------------+-------------+----------|\r\n",
      "|           Hello World |        easy | tutorial |\r\n",
      "|                Binary |        easy | practice |\r\n",
      "| Difference Of Squares |        easy | practice |\r\n",
      "|            Gigasecond |        easy | practice |\r\n",
      "|                Grains |        easy | practice |\r\n",
      "|               Hamming |        easy | practice |\r\n",
      "|                  Leap |        easy | practice |\r\n",
      "|             Nth Prime |        easy | practice |\r\n",
      "|             Raindrops |        easy | practice |\r\n",
      "|     Rna Transcription |        easy | practice |\r\n",
      "|        Roman Numerals |        easy | practice |\r\n",
      "\r\n"
     ]
    }
   ],
   "source": [
    "!java -jar exercism-track-downloader.jar exercises --list plsql -l \"Web Assembly\""
   ]
  },
  {
   "cell_type": "markdown",
   "id": "dbeb9a83",
   "metadata": {},
   "source": [
    "## Download!\n",
    "\n",
    "> Note that only unlocked exercises can be downloaded."
   ]
  },
  {
   "cell_type": "code",
   "execution_count": 10,
   "id": "3a6b71e1",
   "metadata": {},
   "outputs": [
    {
     "name": "stdout",
     "output_type": "stream",
     "text": [
      "\n",
      " ========= \u001b[33;1mplsql\u001b[m =========\n",
      "You have not unlocked exercise \u001b[31;1mhello-world\u001b[m\n",
      "You have not unlocked exercise \u001b[31;1mbinary\u001b[m\n",
      "You have not unlocked exercise \u001b[31;1mdifference-of-squares\u001b[m\n",
      "You have not unlocked exercise \u001b[31;1mgigasecond\u001b[m\n",
      "You have not unlocked exercise \u001b[31;1mgrains\u001b[m\n",
      "You have not unlocked exercise \u001b[31;1mhamming\u001b[m\n",
      "You have not unlocked exercise \u001b[31;1mleap\u001b[m\n",
      "You have not unlocked exercise \u001b[31;1mnth-prime\u001b[m\n",
      "You have not unlocked exercise \u001b[31;1mraindrops\u001b[m\n",
      "You have not unlocked exercise \u001b[31;1mrna-transcription\u001b[m\n",
      "You have not unlocked exercise \u001b[31;1mroman-numerals\u001b[m\n",
      "\n",
      " ========= \u001b[33;1mclojure\u001b[m =========\n",
      "Downloaded exercise \u001b[32;1mhello-world\u001b[m\n",
      "Downloaded exercise \u001b[32;1mlucians-luscious-lasagna\u001b[m\n",
      "Downloaded exercise \u001b[32;1mtracks-on-tracks-on-tracks\u001b[m\n",
      "Downloaded exercise \u001b[32;1mbird-watcher\u001b[m\n",
      "Downloaded exercise \u001b[32;1mcars-assemble\u001b[m\n",
      "Downloaded exercise \u001b[32;1minterest-is-interesting\u001b[m\n",
      "Downloaded exercise \u001b[32;1mannalyns-infiltration\u001b[m\n",
      "Downloaded exercise \u001b[32;1mlog-levels\u001b[m\n",
      "Downloaded exercise \u001b[32;1melyses-destructured-enchantments\u001b[m\n",
      "Downloaded exercise \u001b[32;1mtwo-fer\u001b[m\n",
      "Downloaded exercise \u001b[32;1marmstrong-numbers\u001b[m\n",
      "Downloaded exercise \u001b[32;1mreverse-string\u001b[m\n",
      "Downloaded exercise \u001b[32;1maccumulate\u001b[m\n",
      "Downloaded exercise \u001b[32;1macronym\u001b[m\n",
      "Downloaded exercise \u001b[32;1mall-your-base\u001b[m\n",
      "Downloaded exercise \u001b[32;1managram\u001b[m\n",
      "Downloaded exercise \u001b[32;1mbob\u001b[m\n",
      "Downloaded exercise \u001b[32;1mcollatz-conjecture\u001b[m\n",
      "Downloaded exercise \u001b[32;1mcomplex-numbers\u001b[m\n",
      "Downloaded exercise \u001b[32;1metl\u001b[m\n",
      "Downloaded exercise \u001b[32;1mhamming\u001b[m\n",
      "Downloaded exercise \u001b[32;1mnth-prime\u001b[m\n",
      "Downloaded exercise \u001b[32;1mnucleotide-count\u001b[m\n",
      "Downloaded exercise \u001b[32;1mpangram\u001b[m\n",
      "Downloaded exercise \u001b[32;1mpig-latin\u001b[m\n",
      "Downloaded exercise \u001b[32;1mprotein-translation\u001b[m\n",
      "Downloaded exercise \u001b[32;1mraindrops\u001b[m\n",
      "Downloaded exercise \u001b[32;1mrna-transcription\u001b[m\n",
      "Downloaded exercise \u001b[32;1mrobot-name\u001b[m\n",
      "Downloaded exercise \u001b[32;1mroman-numerals\u001b[m\n",
      "Downloaded exercise \u001b[32;1mrotational-cipher\u001b[m\n",
      "Downloaded exercise \u001b[32;1mrun-length-encoding\u001b[m\n",
      "Downloaded exercise \u001b[32;1mscrabble-score\u001b[m\n",
      "Downloaded exercise \u001b[32;1msecret-handshake\u001b[m\n",
      "Downloaded exercise \u001b[32;1mseries\u001b[m\n",
      "Downloaded exercise \u001b[32;1mspace-age\u001b[m\n",
      "Downloaded exercise \u001b[32;1mstrain\u001b[m\n",
      "Downloaded exercise \u001b[32;1msublist\u001b[m\n",
      "Downloaded exercise \u001b[32;1msum-of-multiples\u001b[m\n",
      "Downloaded exercise \u001b[32;1mtriangle\u001b[m\n",
      "Downloaded exercise \u001b[32;1mword-count\u001b[m\n",
      "Downloaded exercise \u001b[32;1matbash-cipher\u001b[m\n",
      "Downloaded exercise \u001b[32;1mbeer-song\u001b[m\n",
      "Downloaded exercise \u001b[32;1mbinary\u001b[m\n",
      "Downloaded exercise \u001b[32;1mbinary-search\u001b[m\n",
      "Downloaded exercise \u001b[32;1mbinary-search-tree\u001b[m\n",
      "Downloaded exercise \u001b[32;1mchange\u001b[m\n",
      "Downloaded exercise \u001b[32;1mflatten-array\u001b[m\n",
      "Downloaded exercise \u001b[32;1mgigasecond\u001b[m\n",
      "Downloaded exercise \u001b[32;1mgrade-school\u001b[m\n",
      "Downloaded exercise \u001b[32;1mgrains\u001b[m\n",
      "Downloaded exercise \u001b[32;1mhexadecimal\u001b[m\n",
      "Downloaded exercise \u001b[32;1misbn-verifier\u001b[m\n",
      "Downloaded exercise \u001b[32;1misogram\u001b[m\n",
      "Downloaded exercise \u001b[32;1mkindergarten-garden\u001b[m\n",
      "Downloaded exercise \u001b[32;1mleap\u001b[m\n",
      "Downloaded exercise \u001b[32;1mpascals-triangle\u001b[m\n",
      "Downloaded exercise \u001b[32;1mperfect-numbers\u001b[m\n",
      "Downloaded exercise \u001b[32;1mphone-number\u001b[m\n",
      "Downloaded exercise \u001b[32;1mprime-factors\u001b[m\n",
      "Downloaded exercise \u001b[32;1mproverb\u001b[m\n",
      "Downloaded exercise \u001b[32;1msay\u001b[m\n",
      "Downloaded exercise \u001b[32;1mtrinary\u001b[m\n",
      "Downloaded exercise \u001b[32;1mallergies\u001b[m\n",
      "Downloaded exercise \u001b[32;1mcrypto-square\u001b[m\n",
      "Downloaded exercise \u001b[32;1mdifference-of-squares\u001b[m\n",
      "Downloaded exercise \u001b[32;1mdominoes\u001b[m\n",
      "Downloaded exercise \u001b[32;1mlargest-series-product\u001b[m\n",
      "Downloaded exercise \u001b[32;1mmeetup\u001b[m\n",
      "Downloaded exercise \u001b[32;1moctal\u001b[m\n",
      "Downloaded exercise \u001b[32;1mspiral-matrix\u001b[m\n",
      "Downloaded exercise \u001b[32;1mclock\u001b[m\n",
      "Downloaded exercise \u001b[32;1mdiamond\u001b[m\n",
      "Downloaded exercise \u001b[32;1mluhn\u001b[m\n",
      "Downloaded exercise \u001b[32;1msieve\u001b[m\n",
      "Downloaded exercise \u001b[32;1mrobot-simulator\u001b[m\n",
      "Downloaded exercise \u001b[32;1mwordy\u001b[m\n",
      "Downloaded exercise \u001b[32;1mbank-account\u001b[m\n",
      "Downloaded exercise \u001b[32;1mmatching-brackets\u001b[m\n",
      "Downloaded exercise \u001b[32;1mminesweeper\u001b[m\n",
      "Downloaded exercise \u001b[32;1mpoker\u001b[m\n",
      "Downloaded exercise \u001b[32;1mqueen-attack\u001b[m\n",
      "Downloaded exercise \u001b[32;1mgo-counting\u001b[m\n",
      "Downloaded exercise \u001b[32;1mpov\u001b[m\n",
      "\n"
     ]
    }
   ],
   "source": [
    "!java -jar exercism-track-downloader.jar exercises --download plsql -d clojure"
   ]
  },
  {
   "cell_type": "markdown",
   "id": "6ff21534",
   "metadata": {},
   "source": [
    "## Speeding up Execution\n",
    "\n",
    "### (Slow) Time of Standalone Executable\n",
    "\n",
    "The startup time is slow due to Clojure's [slow loading time](http://clojure-goes-fast.com/blog/clojures-slow-start/#:~:text=Clojure%20projects%20are%20slow%20to,the%20classes%20are%20loaded%20slowly.). The execution time might be also be slow as data is retrieved directly from exercism.org and parsed every time the application is run."
   ]
  },
  {
   "cell_type": "code",
   "execution_count": 11,
   "id": "0c4a8b9e",
   "metadata": {},
   "outputs": [
    {
     "name": "stdout",
     "output_type": "stream",
     "text": [
      "\r\n",
      "Retrieving tracks from https://exercism.io/tracks\r\n",
      "\r\n",
      "\r\n",
      "|       :slug |       :lang |\r\n",
      "|-------------+-------------|\r\n",
      "|           c |           C |\r\n",
      "| objective-c | Objective-C |\r\n",
      "\r\n",
      "java -jar exercism-track-downloader.jar tracks --search \"^.*c\"  4.91s user 0.30s system 119% cpu 4.350 total\r\n"
     ]
    }
   ],
   "source": [
    "!time java -jar exercism-track-downloader.jar tracks --search \"^.*c\""
   ]
  },
  {
   "cell_type": "code",
   "execution_count": 12,
   "id": "8737c066",
   "metadata": {},
   "outputs": [
    {
     "name": "stdout",
     "output_type": "stream",
     "text": [
      "========= plsql =========\r\n",
      "\r\n",
      "|                :title | :difficulty |    :type |\r\n",
      "|-----------------------+-------------+----------|\r\n",
      "|           Hello World |        easy | tutorial |\r\n",
      "|                Binary |        easy | practice |\r\n",
      "| Difference Of Squares |        easy | practice |\r\n",
      "|            Gigasecond |        easy | practice |\r\n",
      "|                Grains |        easy | practice |\r\n",
      "|               Hamming |        easy | practice |\r\n",
      "|                  Leap |        easy | practice |\r\n",
      "|             Nth Prime |        easy | practice |\r\n",
      "|             Raindrops |        easy | practice |\r\n",
      "|     Rna Transcription |        easy | practice |\r\n",
      "|        Roman Numerals |        easy | practice |\r\n",
      "\r\n",
      "java -jar exercism-track-downloader.jar exercises --list plsql  5.27s user 0.28s system 93% cpu 5.953 total\r\n"
     ]
    }
   ],
   "source": [
    "!time java -jar exercism-track-downloader.jar exercises --list plsql"
   ]
  },
  {
   "cell_type": "markdown",
   "id": "3784019c",
   "metadata": {},
   "source": [
    "### Drip\n",
    "\n",
    "One option to significantly increase the speed of startup is by using an application like [drip](https://github.com/ninjudd/drip). "
   ]
  },
  {
   "cell_type": "markdown",
   "id": "b8bfc0c7",
   "metadata": {},
   "source": [
    "```bash\n",
    "!time drip -jar exercism-track-downloader.jar tracks --search \"^.*c\"\n",
    "```\n",
    "\n",
    "```\n",
    "Retrieving tracks from https://exercism.io/tracks\n",
    "\n",
    "\n",
    "|       :slug |       :lang |\n",
    "|-------------+-------------|\n",
    "|           c |           C |\n",
    "| objective-c | Objective-C |\n",
    "\n",
    "drip -jar exercism-track-downloader.jar tracks --search \"^.*c\"  0.06s user 0.08s system 61% cpu 0.225 total\n",
    "```"
   ]
  },
  {
   "cell_type": "markdown",
   "id": "58e14b04",
   "metadata": {},
   "source": [
    "```bash\n",
    "!time drip -jar exercism-track-downloader.jar exercises --list plsql\n",
    "```\n",
    "\n",
    "```\n",
    "========= plsql =========\n",
    "\n",
    "|                :title | :difficulty |    :type |\n",
    "|-----------------------+-------------+----------|\n",
    "|           Hello World |        easy | tutorial |\n",
    "|                Binary |        easy | practice |\n",
    "| Difference Of Squares |        easy | practice |\n",
    "|            Gigasecond |        easy | practice |\n",
    "|                Grains |        easy | practice |\n",
    "|               Hamming |        easy | practice |\n",
    "|                  Leap |        easy | practice |\n",
    "|             Nth Prime |        easy | practice |\n",
    "|             Raindrops |        easy | practice |\n",
    "|     Rna Transcription |        easy | practice |\n",
    "|        Roman Numerals |        easy | practice |\n",
    "\n",
    "drip -jar exercism-track-downloader.jar exercises --list plsql  0.06s user 0.08s system 15% cpu 0.879 total\n",
    "```"
   ]
  }
 ],
 "metadata": {
  "kernelspec": {
   "display_name": "Python 3 (ipykernel)",
   "language": "python",
   "name": "python3"
  },
  "language_info": {
   "codemirror_mode": {
    "name": "ipython",
    "version": 3
   },
   "file_extension": ".py",
   "mimetype": "text/x-python",
   "name": "python",
   "nbconvert_exporter": "python",
   "pygments_lexer": "ipython3",
   "version": "3.8.9"
  }
 },
 "nbformat": 4,
 "nbformat_minor": 5
}
