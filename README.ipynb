{
 "cells": [
  {
   "cell_type": "markdown",
   "id": "b4a27962",
   "metadata": {},
   "source": [
    "# exercism-track-downloader"
   ]
  },
  {
   "cell_type": "markdown",
   "id": "08da1165",
   "metadata": {},
   "source": [
    "`exercism-track-downloader` is a small Clojure (Java) CLI application to download all exercises for track(s) from [exercism.org](https://exercism.org/).\n",
    "\n",
    "```sh\n",
    "exercism-track-downloader.jar [args]\n",
    "```\n",
    "\n",
    "Examples are provided in the [usage](#usage) section.\n",
    "\n",
    "## Pre-requisities\n",
    "\n",
    "+ [Exercim's CLI](https://exercism.org/docs/using/solving-exercises/working-locally) application must be installed as it used to retrieve the exercises.\n",
    "\n",
    "+ Exercises must be *unlocked* to be *downloaded*. Locked exercises cannot be downloaded.\n",
    "\n",
    "## Installation\n",
    "\n",
    "Copy the `target/uberjar/exercism-track-downloader-<version>-standalone.jar` file to somewhere in your `PATH` and give it executable permissions.\n",
    "\n",
    "Alternatively, Clojure developers can use the code or library  (`target/uberjar/exercism-track-downloader-<version>.jar`) directly.\n"
   ]
  },
  {
   "cell_type": "markdown",
   "id": "e373169d",
   "metadata": {},
   "source": [
    "## Usage\n",
    "\n",
    "Execute commands below from within the root directory. Copy-paste them to your terminal and remove the leading `!` character. Note that `exercism-track-downloader.jar` is symlinked to `target/uberjar/exercism-track-downloader-1.0-standalone.jar`.\n",
    "\n",
    "> _Note_: All data is retrieved directly from [exercism.org](https://exercism.org/) on each run"
   ]
  },
  {
   "cell_type": "markdown",
   "id": "50b42281",
   "metadata": {},
   "source": [
    "### Help"
   ]
  },
  {
   "cell_type": "code",
   "execution_count": 1,
   "id": "93b9de94",
   "metadata": {},
   "outputs": [
    {
     "name": "stdout",
     "output_type": "stream",
     "text": [
      "NAME:\r\n",
      " exercism-track-downloader - Application to download all exercises from Exercism for any track(s).\r\n",
      "\r\n",
      "USAGE:\r\n",
      " exercism-track-downloader [global-options] command [command options] [arguments...]\r\n",
      "\r\n",
      "VERSION:\r\n",
      " 1.0\r\n",
      "\r\n",
      "COMMANDS:\r\n",
      "   tracks               List available tracks on Exercism\r\n",
      "   exercises            List and download exercises for each track\r\n",
      "\r\n",
      "GLOBAL OPTIONS:\r\n",
      "   -?, --help\r\n",
      "\r\n"
     ]
    }
   ],
   "source": [
    "!java -jar exercism-track-downloader.jar --help"
   ]
  },
  {
   "cell_type": "markdown",
   "id": "7273913c",
   "metadata": {},
   "source": [
    "### Tracks"
   ]
  },
  {
   "cell_type": "markdown",
   "id": "9758e0ce",
   "metadata": {},
   "source": [
    "#### Help"
   ]
  },
  {
   "cell_type": "code",
   "execution_count": 2,
   "id": "9c79a749",
   "metadata": {},
   "outputs": [
    {
     "name": "stdout",
     "output_type": "stream",
     "text": [
      "NAME:\r\n",
      " exercism-track-downloader tracks - List available tracks on Exercism\r\n",
      "\r\n",
      "USAGE:\r\n",
      " exercism-track-downloader tracks [command options] [arguments...]\r\n",
      "\r\n",
      "EXAMPLES:\r\n",
      " exercism-track-downloader tracks --list\r\n",
      " exercism-track-downloader tracks --slugs\r\n",
      " exercism-track-downloader tracks --langs\r\n",
      " exercism-track-downloader tracks --search \".*L$\"\r\n",
      "\r\n",
      "OPTIONS:\r\n",
      "   -l, --[no-]list   List both track slugs and language mappings\r\n",
      "   -s, --[no-]slugs  List track slugs only\r\n",
      "   -g, --[no-]langs  List track languages only\r\n",
      "   -r, --search S    Search available track listings using regex\r\n",
      "   -?, --help\r\n",
      "\r\n"
     ]
    }
   ],
   "source": [
    "!java -jar exercism-track-downloader.jar tracks --help"
   ]
  },
  {
   "cell_type": "markdown",
   "id": "a4867dc8",
   "metadata": {},
   "source": [
    "#### Listings"
   ]
  },
  {
   "cell_type": "code",
   "execution_count": 12,
   "id": "28a9f83f",
   "metadata": {},
   "outputs": [
    {
     "name": "stdout",
     "output_type": "stream",
     "text": [
      "\r\n",
      "Retrieving tracks from https://exercism.io/tracks\r\n",
      "\r\n",
      "\r\n",
      "|           :slug |           :lang |\r\n",
      "|-----------------+-----------------|\r\n",
      "|            abap |            ABAP |\r\n",
      "|             awk |             AWK |\r\n",
      "|            bash |            Bash |\r\n",
      "|               c |               C |\r\n",
      "|            cfml |            CFML |\r\n",
      "|         clojure |         Clojure |\r\n",
      "|   clojurescript |   ClojureScript |\r\n",
      "|    coffeescript |    CoffeeScript |\r\n",
      "|     common-lisp |     Common Lisp |\r\n",
      "|             cpp |             C++ |\r\n",
      "|         crystal |         Crystal |\r\n",
      "|          csharp |              C# |\r\n",
      "|               d |               D |\r\n",
      "|            dart |            Dart |\r\n",
      "|          delphi |   Delphi Pascal |\r\n",
      "|          elixir |          Elixir |\r\n",
      "|             elm |             Elm |\r\n",
      "|      emacs-lisp |      Emacs Lisp |\r\n",
      "|          erlang |          Erlang |\r\n",
      "|         fortran |         Fortran |\r\n",
      "|          fsharp |              F# |\r\n",
      "|              go |              Go |\r\n",
      "|          groovy |          Groovy |\r\n",
      "|         haskell |         Haskell |\r\n",
      "|            java |            Java |\r\n",
      "|      javascript |      JavaScript |\r\n",
      "|           julia |           Julia |\r\n",
      "|          kotlin |          Kotlin |\r\n",
      "|             lfe |             LFE |\r\n",
      "|             lua |             Lua |\r\n",
      "|            mips |   MIPS Assembly |\r\n",
      "|             nim |             Nim |\r\n",
      "|     objective-c |     Objective-C |\r\n",
      "|           ocaml |           OCaml |\r\n",
      "|           perl5 |          Perl 5 |\r\n",
      "| pharo-smalltalk |           Pharo |\r\n",
      "|             php |             PHP |\r\n",
      "|           plsql |          PL/SQL |\r\n",
      "|          prolog |          Prolog |\r\n",
      "|      purescript |      PureScript |\r\n",
      "|          python |          Python |\r\n",
      "|               r |               R |\r\n",
      "|          racket |          Racket |\r\n",
      "|            raku |            Raku |\r\n",
      "|        reasonml |        ReasonML |\r\n",
      "|            ruby |            Ruby |\r\n",
      "|            rust |            Rust |\r\n",
      "|           scala |           Scala |\r\n",
      "|          scheme |          Scheme |\r\n",
      "|             sml |     Standard ML |\r\n",
      "|           swift |           Swift |\r\n",
      "|             tcl |             Tcl |\r\n",
      "|      typescript |      TypeScript |\r\n",
      "|          unison |          Unison |\r\n",
      "|           vbnet |          VB.NET |\r\n",
      "|       vimscript |      Vim script |\r\n",
      "|            wasm |     WebAssembly |\r\n",
      "|            wren |            Wren |\r\n",
      "| x86-64-assembly | x86-64 Assembly |\r\n",
      "\r\n"
     ]
    }
   ],
   "source": [
    "!java -jar exercism-track-downloader.jar tracks --list"
   ]
  },
  {
   "cell_type": "markdown",
   "id": "6e66ca56",
   "metadata": {},
   "source": [
    "#### Slugs (URL abbreviations) Only"
   ]
  },
  {
   "cell_type": "code",
   "execution_count": 4,
   "id": "f37daead",
   "metadata": {},
   "outputs": [
    {
     "name": "stdout",
     "output_type": "stream",
     "text": [
      "c\r\n",
      "cfml\r\n",
      "clojure\r\n",
      "clojurescript\r\n",
      "coffeescript\r\n",
      "common-lisp\r\n",
      "cpp\r\n",
      "crystal\r\n",
      "csharp\r\n"
     ]
    }
   ],
   "source": [
    "!java -jar exercism-track-downloader.jar tracks --slugs | grep \"^c.*\""
   ]
  },
  {
   "cell_type": "markdown",
   "id": "341ee193",
   "metadata": {},
   "source": [
    "#### Languages Only"
   ]
  },
  {
   "cell_type": "code",
   "execution_count": 5,
   "id": "e45c0686",
   "metadata": {},
   "outputs": [
    {
     "name": "stdout",
     "output_type": "stream",
     "text": [
      "CFML\r\n",
      "ReasonML\r\n",
      "Standard ML\r\n"
     ]
    }
   ],
   "source": [
    "!java -jar exercism-track-downloader.jar tracks --langs | grep \".*ML.*\""
   ]
  },
  {
   "cell_type": "markdown",
   "id": "3fb0d9ec",
   "metadata": {},
   "source": [
    "#### Search Track Listings"
   ]
  },
  {
   "cell_type": "code",
   "execution_count": 6,
   "id": "bea308d8",
   "metadata": {},
   "outputs": [
    {
     "name": "stdout",
     "output_type": "stream",
     "text": [
      "\r\n",
      "Retrieving tracks from https://exercism.io/tracks\r\n",
      "\r\n",
      "\r\n",
      "|    :slug |       :lang |\r\n",
      "|----------+-------------|\r\n",
      "|     cfml |        CFML |\r\n",
      "|    plsql |      PL/SQL |\r\n",
      "| reasonml |    ReasonML |\r\n",
      "|      sml | Standard ML |\r\n",
      "\r\n"
     ]
    }
   ],
   "source": [
    "!java -jar exercism-track-downloader.jar tracks --search \".*L$\""
   ]
  },
  {
   "cell_type": "markdown",
   "id": "a9b757ee",
   "metadata": {},
   "source": [
    "### Exercises"
   ]
  },
  {
   "cell_type": "markdown",
   "id": "ae154894",
   "metadata": {},
   "source": [
    "#### Help"
   ]
  },
  {
   "cell_type": "code",
   "execution_count": 7,
   "id": "76c421b0",
   "metadata": {},
   "outputs": [
    {
     "name": "stdout",
     "output_type": "stream",
     "text": [
      "NAME:\r\n",
      " exercism-track-downloader exercises - List and download exercises for each track\r\n",
      "\r\n",
      "USAGE:\r\n",
      " exercism-track-downloader exercises [command options] [arguments...]\r\n",
      "\r\n",
      "EXAMPLES:\r\n",
      " exercism-track-downloader exercises --list plsql -l clojure\r\n",
      " exercism-track-downloader exercises --download wasm -d awk\r\n",
      "\r\n",
      "OPTIONS:\r\n",
      "   -l, --list S      List exercises for target tracks\r\n",
      "   -d, --download S  Download exercises for target tracks\r\n",
      "   -?, --help\r\n",
      "\r\n"
     ]
    }
   ],
   "source": [
    "!java -jar exercism-track-downloader.jar exercises --help"
   ]
  },
  {
   "cell_type": "markdown",
   "id": "b2e9d0ba",
   "metadata": {},
   "source": [
    "#### Listings"
   ]
  },
  {
   "cell_type": "code",
   "execution_count": 8,
   "id": "ce11dc5e",
   "metadata": {},
   "outputs": [
    {
     "name": "stdout",
     "output_type": "stream",
     "text": [
      "========= plsql =========\n",
      "\n",
      "|                :title | :difficulty |    :type |\n",
      "|-----------------------+-------------+----------|\n",
      "|           Hello World |        easy | tutorial |\n",
      "|                Binary |        easy | practice |\n",
      "| Difference Of Squares |        easy | practice |\n",
      "|            Gigasecond |        easy | practice |\n",
      "|                Grains |        easy | practice |\n",
      "|               Hamming |        easy | practice |\n",
      "|                  Leap |        easy | practice |\n",
      "|             Nth Prime |        easy | practice |\n",
      "|             Raindrops |        easy | practice |\n",
      "|     Rna Transcription |        easy | practice |\n",
      "|        Roman Numerals |        easy | practice |\n",
      "\n",
      "========= wasm =========\n",
      "\n",
      "|                :title | :difficulty |    :type |\n",
      "|-----------------------+-------------+----------|\n",
      "|           Hello World |        easy | tutorial |\n",
      "|                 Darts |        easy | practice |\n",
      "|    Collatz Conjecture |        easy | practice |\n",
      "|                Grains |      medium | practice |\n",
      "| Difference of Squares |        easy | practice |\n",
      "|                  Leap |        easy | practice |\n",
      "|        Resistor Color |      medium | practice |\n",
      "|        Reverse String |        easy | practice |\n",
      "|               Two Fer |        easy | practice |\n",
      "|          Bank Account |        easy | practice |\n",
      "|       Circular Buffer |        hard | practice |\n",
      "|               Acronym |        easy | practice |\n",
      "|         All Your Base |      medium | practice |\n",
      "|         Binary Search |      medium | practice |\n",
      "|              Triangle |        easy | practice |\n",
      "|      Nucleotide Count |        easy | practice |\n",
      "|     Armstrong Numbers |        easy | practice |\n",
      "|     Rna Transcription |        easy | practice |\n",
      "|             Raindrops |        easy | practice |\n",
      "|               Hamming |        easy | practice |\n",
      "|               Pangram |        easy | practice |\n",
      "\n"
     ]
    }
   ],
   "source": [
    "!java -jar exercism-track-downloader.jar exercises --list plsql -l WebAssembly"
   ]
  },
  {
   "cell_type": "markdown",
   "id": "3c0ae9b6",
   "metadata": {},
   "source": [
    "If one ore more tracks are not found it is skipped and a message is displayed"
   ]
  },
  {
   "cell_type": "code",
   "execution_count": 9,
   "id": "38ed9909",
   "metadata": {},
   "outputs": [
    {
     "name": "stdout",
     "output_type": "stream",
     "text": [
      "\r\n",
      "[Web Assembly] not found. See tracks for available options.\r\n",
      "\r\n",
      "========= plsql =========\r\n",
      "\r\n",
      "|                :title | :difficulty |    :type |\r\n",
      "|-----------------------+-------------+----------|\r\n",
      "|           Hello World |        easy | tutorial |\r\n",
      "|                Binary |        easy | practice |\r\n",
      "| Difference Of Squares |        easy | practice |\r\n",
      "|            Gigasecond |        easy | practice |\r\n",
      "|                Grains |        easy | practice |\r\n",
      "|               Hamming |        easy | practice |\r\n",
      "|                  Leap |        easy | practice |\r\n",
      "|             Nth Prime |        easy | practice |\r\n",
      "|             Raindrops |        easy | practice |\r\n",
      "|     Rna Transcription |        easy | practice |\r\n",
      "|        Roman Numerals |        easy | practice |\r\n",
      "\r\n"
     ]
    }
   ],
   "source": [
    "!java -jar exercism-track-downloader.jar exercises --list plsql -l \"Web Assembly\""
   ]
  },
  {
   "cell_type": "markdown",
   "id": "dbeb9a83",
   "metadata": {},
   "source": [
    "## Download!\n",
    "\n",
    "> Note that only unlocked exercises can be downloaded."
   ]
  },
  {
   "cell_type": "code",
   "execution_count": 21,
   "id": "3a6b71e1",
   "metadata": {},
   "outputs": [
    {
     "name": "stdout",
     "output_type": "stream",
     "text": [
      "\r\n",
      "Downloaded exercise <hello-world> for track <plsql>\r\n",
      "You have not unlocked exercise <binary> for track <plsql>\r\n",
      "You have not unlocked exercise <difference-of-squares> for track <plsql>\r\n",
      "You have not unlocked exercise <gigasecond> for track <plsql>\r\n",
      "You have not unlocked exercise <grains> for track <plsql>\r\n",
      "You have not unlocked exercise <hamming> for track <plsql>\r\n",
      "You have not unlocked exercise <leap> for track <plsql>\r\n",
      "You have not unlocked exercise <nth-prime> for track <plsql>\r\n",
      "You have not unlocked exercise <raindrops> for track <plsql>\r\n",
      "You have not unlocked exercise <rna-transcription> for track <plsql>\r\n",
      "You have not unlocked exercise <roman-numerals> for track <plsql>\r\n",
      "Downloaded exercise <hello-world> for track <clojure>\r\n",
      "Downloaded exercise <lucians-luscious-lasagna> for track <clojure>\r\n",
      "Downloaded exercise <tracks-on-tracks-on-tracks> for track <clojure>\r\n",
      "Downloaded exercise <bird-watcher> for track <clojure>\r\n",
      "Downloaded exercise <cars-assemble> for track <clojure>\r\n",
      "Downloaded exercise <interest-is-interesting> for track <clojure>\r\n",
      "Downloaded exercise <annalyns-infiltration> for track <clojure>\r\n",
      "Downloaded exercise <log-levels> for track <clojure>\r\n",
      "Downloaded exercise <elyses-destructured-enchantments> for track <clojure>\r\n",
      "Downloaded exercise <two-fer> for track <clojure>\r\n",
      "Downloaded exercise <armstrong-numbers> for track <clojure>\r\n",
      "Downloaded exercise <reverse-string> for track <clojure>\r\n",
      "Downloaded exercise <accumulate> for track <clojure>\r\n",
      "Downloaded exercise <acronym> for track <clojure>\r\n",
      "Downloaded exercise <all-your-base> for track <clojure>\r\n",
      "Downloaded exercise <anagram> for track <clojure>\r\n",
      "Downloaded exercise <bob> for track <clojure>\r\n",
      "Downloaded exercise <collatz-conjecture> for track <clojure>\r\n",
      "Downloaded exercise <complex-numbers> for track <clojure>\r\n",
      "Downloaded exercise <etl> for track <clojure>\r\n",
      "Downloaded exercise <hamming> for track <clojure>\r\n",
      "Downloaded exercise <nth-prime> for track <clojure>\r\n",
      "Downloaded exercise <nucleotide-count> for track <clojure>\r\n",
      "Downloaded exercise <pangram> for track <clojure>\r\n",
      "Downloaded exercise <pig-latin> for track <clojure>\r\n",
      "Downloaded exercise <protein-translation> for track <clojure>\r\n",
      "Downloaded exercise <raindrops> for track <clojure>\r\n",
      "Downloaded exercise <rna-transcription> for track <clojure>\r\n",
      "Downloaded exercise <robot-name> for track <clojure>\r\n",
      "Downloaded exercise <roman-numerals> for track <clojure>\r\n",
      "Downloaded exercise <rotational-cipher> for track <clojure>\r\n",
      "Downloaded exercise <run-length-encoding> for track <clojure>\r\n",
      "Downloaded exercise <scrabble-score> for track <clojure>\r\n",
      "Downloaded exercise <secret-handshake> for track <clojure>\r\n",
      "Downloaded exercise <series> for track <clojure>\r\n",
      "Downloaded exercise <space-age> for track <clojure>\r\n",
      "Downloaded exercise <strain> for track <clojure>\r\n",
      "Downloaded exercise <sublist> for track <clojure>\r\n",
      "Downloaded exercise <sum-of-multiples> for track <clojure>\r\n",
      "Downloaded exercise <triangle> for track <clojure>\r\n",
      "Downloaded exercise <word-count> for track <clojure>\r\n",
      "Downloaded exercise <atbash-cipher> for track <clojure>\r\n",
      "Downloaded exercise <beer-song> for track <clojure>\r\n",
      "Downloaded exercise <binary> for track <clojure>\r\n",
      "Downloaded exercise <binary-search> for track <clojure>\r\n",
      "Downloaded exercise <binary-search-tree> for track <clojure>\r\n",
      "Downloaded exercise <change> for track <clojure>\r\n",
      "Downloaded exercise <flatten-array> for track <clojure>\r\n",
      "Downloaded exercise <gigasecond> for track <clojure>\r\n",
      "Downloaded exercise <grade-school> for track <clojure>\r\n",
      "Downloaded exercise <grains> for track <clojure>\r\n",
      "Downloaded exercise <hexadecimal> for track <clojure>\r\n",
      "Downloaded exercise <isbn-verifier> for track <clojure>\r\n",
      "Downloaded exercise <isogram> for track <clojure>\r\n",
      "Downloaded exercise <kindergarten-garden> for track <clojure>\r\n",
      "Downloaded exercise <leap> for track <clojure>\r\n",
      "Downloaded exercise <pascals-triangle> for track <clojure>\r\n",
      "Downloaded exercise <perfect-numbers> for track <clojure>\r\n",
      "Downloaded exercise <phone-number> for track <clojure>\r\n",
      "Downloaded exercise <prime-factors> for track <clojure>\r\n",
      "Downloaded exercise <proverb> for track <clojure>\r\n",
      "Downloaded exercise <say> for track <clojure>\r\n",
      "Downloaded exercise <trinary> for track <clojure>\r\n",
      "Downloaded exercise <allergies> for track <clojure>\r\n",
      "Downloaded exercise <crypto-square> for track <clojure>\r\n",
      "Downloaded exercise <difference-of-squares> for track <clojure>\r\n",
      "Downloaded exercise <dominoes> for track <clojure>\r\n",
      "Downloaded exercise <largest-series-product> for track <clojure>\r\n",
      "Downloaded exercise <meetup> for track <clojure>\r\n",
      "Downloaded exercise <octal> for track <clojure>\r\n",
      "Downloaded exercise <spiral-matrix> for track <clojure>\r\n",
      "Downloaded exercise <clock> for track <clojure>\r\n",
      "Downloaded exercise <diamond> for track <clojure>\r\n",
      "Downloaded exercise <luhn> for track <clojure>\r\n",
      "Downloaded exercise <sieve> for track <clojure>\r\n",
      "Downloaded exercise <robot-simulator> for track <clojure>\r\n",
      "Downloaded exercise <wordy> for track <clojure>\r\n",
      "Downloaded exercise <bank-account> for track <clojure>\r\n",
      "Downloaded exercise <matching-brackets> for track <clojure>\r\n",
      "Downloaded exercise <minesweeper> for track <clojure>\r\n",
      "Downloaded exercise <poker> for track <clojure>\r\n",
      "Downloaded exercise <queen-attack> for track <clojure>\r\n",
      "Downloaded exercise <go-counting> for track <clojure>\r\n",
      "Downloaded exercise <pov> for track <clojure>\r\n",
      "\r\n"
     ]
    }
   ],
   "source": [
    "!java -jar exercism-track-downloader.jar exercises --download plsql -d clojure"
   ]
  },
  {
   "cell_type": "markdown",
   "id": "6ff21534",
   "metadata": {},
   "source": [
    "## Speeding up Execution\n",
    "\n",
    "### (Slow) Time of Standalone Executable\n",
    "\n",
    "The startup time is slow due to Clojure's [slow loading time](http://clojure-goes-fast.com/blog/clojures-slow-start/#:~:text=Clojure%20projects%20are%20slow%20to,the%20classes%20are%20loaded%20slowly.). The execution time might be also be slow as data is retrieved directly from exercism.org and parsed every time the application is run."
   ]
  },
  {
   "cell_type": "code",
   "execution_count": 11,
   "id": "0c4a8b9e",
   "metadata": {},
   "outputs": [
    {
     "name": "stdout",
     "output_type": "stream",
     "text": [
      "\r\n",
      "Retrieving tracks from https://exercism.io/tracks\r\n",
      "\r\n",
      "\r\n",
      "|       :slug |       :lang |\r\n",
      "|-------------+-------------|\r\n",
      "|           c |           C |\r\n",
      "| objective-c | Objective-C |\r\n",
      "\r\n",
      "java -jar exercism-track-downloader.jar tracks --search \"^.*c\"  4.32s user 0.21s system 106% cpu 4.268 total\r\n"
     ]
    }
   ],
   "source": [
    "!time java -jar exercism-track-downloader.jar tracks --search \"^.*c\""
   ]
  },
  {
   "cell_type": "code",
   "execution_count": 12,
   "id": "8737c066",
   "metadata": {},
   "outputs": [
    {
     "name": "stdout",
     "output_type": "stream",
     "text": [
      "========= plsql =========\n",
      "\n",
      "|                :title | :difficulty |    :type |\n",
      "|-----------------------+-------------+----------|\n",
      "|           Hello World |        easy | tutorial |\n",
      "|                Binary |        easy | practice |\n",
      "| Difference Of Squares |        easy | practice |\n",
      "|            Gigasecond |        easy | practice |\n",
      "|                Grains |        easy | practice |\n",
      "|               Hamming |        easy | practice |\n",
      "|                  Leap |        easy | practice |\n",
      "|             Nth Prime |        easy | practice |\n",
      "|             Raindrops |        easy | practice |\n",
      "|     Rna Transcription |        easy | practice |\n",
      "|        Roman Numerals |        easy | practice |\n",
      "\n",
      "java -jar exercism-track-downloader.jar exercises --list plsql  4.71s user 0.25s system 112% cpu 4.414 total\n"
     ]
    }
   ],
   "source": [
    "!time java -jar exercism-track-downloader.jar exercises --list plsql"
   ]
  },
  {
   "cell_type": "markdown",
   "id": "3784019c",
   "metadata": {},
   "source": [
    "### Drip\n",
    "\n",
    "One option to significantly increase the speed of startup is by using an application like [drip](https://github.com/ninjudd/drip). "
   ]
  },
  {
   "cell_type": "markdown",
   "id": "b8bfc0c7",
   "metadata": {},
   "source": [
    "```bash\n",
    "!time drip -jar exercism-track-downloader.jar tracks --search \"^.*c\"\n",
    "```\n",
    "\n",
    "```\n",
    "Retrieving tracks from https://exercism.io/tracks\n",
    "\n",
    "\n",
    "|       :slug |       :lang |\n",
    "|-------------+-------------|\n",
    "|           c |           C |\n",
    "| objective-c | Objective-C |\n",
    "\n",
    "drip -jar exercism-track-downloader.jar tracks --search \"^.*c\"  0.06s user 0.08s system 61% cpu 0.225 total\n",
    "```"
   ]
  },
  {
   "cell_type": "markdown",
   "id": "58e14b04",
   "metadata": {},
   "source": [
    "```bash\n",
    "!time drip -jar exercism-track-downloader.jar exercises --list plsql\n",
    "```\n",
    "\n",
    "```\n",
    "========= plsql =========\n",
    "\n",
    "|                :title | :difficulty |    :type |\n",
    "|-----------------------+-------------+----------|\n",
    "|           Hello World |        easy | tutorial |\n",
    "|                Binary |        easy | practice |\n",
    "| Difference Of Squares |        easy | practice |\n",
    "|            Gigasecond |        easy | practice |\n",
    "|                Grains |        easy | practice |\n",
    "|               Hamming |        easy | practice |\n",
    "|                  Leap |        easy | practice |\n",
    "|             Nth Prime |        easy | practice |\n",
    "|             Raindrops |        easy | practice |\n",
    "|     Rna Transcription |        easy | practice |\n",
    "|        Roman Numerals |        easy | practice |\n",
    "\n",
    "drip -jar exercism-track-downloader.jar exercises --list plsql  0.06s user 0.08s system 15% cpu 0.879 total\n",
    "```"
   ]
  }
 ],
 "metadata": {
  "kernelspec": {
   "display_name": "Python 3 (ipykernel)",
   "language": "python",
   "name": "python3"
  },
  "language_info": {
   "codemirror_mode": {
    "name": "ipython",
    "version": 3
   },
   "file_extension": ".py",
   "mimetype": "text/x-python",
   "name": "python",
   "nbconvert_exporter": "python",
   "pygments_lexer": "ipython3",
   "version": "3.8.9"
  }
 },
 "nbformat": 4,
 "nbformat_minor": 5
}
